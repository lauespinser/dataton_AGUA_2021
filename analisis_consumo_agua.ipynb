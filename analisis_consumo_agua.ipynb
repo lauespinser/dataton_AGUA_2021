{
 "cells": [
  {
   "cell_type": "markdown",
   "source": [
    "# Cargamos módulos"
   ],
   "metadata": {}
  },
  {
   "cell_type": "code",
   "execution_count": 1,
   "source": [
<<<<<<< HEAD
    "import pandas as pd\n",
    "import numpy as np\n",
    "import plotly.offline as pyo\n",
    "import plotly.graph_objs as go\n",
    "import plotly.express as px\n",
=======
    "import pandas as pd\r\n",
    "import numpy as np\r\n",
    "import plotly.offline as pyo\r\n",
    "import plotly.graph_objs as go\r\n",
>>>>>>> cd8a590014ce7580fafcc4e5a2365b0651869413
    "import unicodedata"
   ],
   "outputs": [],
   "metadata": {}
  },
  {
   "cell_type": "markdown",
   "source": [
    "# Datos de Consumo de agua CDMX primer semestre 2019"
   ],
   "metadata": {}
  },
  {
   "cell_type": "code",
   "execution_count": 3,
   "source": [
<<<<<<< HEAD
    "df = pd.read_csv(\"/home/jfractal/Documentos/dataton_2021/dataton_AGUA_2021/consumo-agua.csv\")\n",
    "#df.dtypes ## muestra los nombres de los campos y su tipo.\n",
    "df.columns\n",
    "#df.head()"
=======
    "ruta = \"/home/jfractal/Documentos/dataton_2021/dataton_AGUA_2021/consumo-agua.csv\"\r\n",
    "ruta = \"consumo-agua.csv\"\r\n",
    "df = pd.read_csv(ruta)\r\n",
    "#df.dtypes ## muestra los nombres de los campos y su tipo.\r\n",
    "df.columns"
>>>>>>> cd8a590014ce7580fafcc4e5a2365b0651869413
   ],
   "outputs": [
    {
     "output_type": "execute_result",
     "data": {
      "text/plain": [
       "Index(['id', 'geo_point_2d', 'geo_shape', 'consumo_total_mixto', 'anio',\n",
       "       'nomgeo', 'consumo_prom_dom', 'consumo_total_dom', 'alcaldia',\n",
       "       'colonia', 'consumo_prom_mixto', 'consumo_total', 'consumo_prom',\n",
       "       'consumo_prom_no_dom', 'bimestre', 'consumo_total_no_dom', 'gid',\n",
       "       'indice_des'],\n",
       "      dtype='object')"
      ]
     },
     "metadata": {},
     "execution_count": 3
    }
   ],
   "metadata": {}
  },
  {
   "cell_type": "code",
<<<<<<< HEAD
   "execution_count": 5,
   "source": [
    "df2 = df.iloc[:, [8,9,7,17,1,14,16]]\n",
    "df2.head(1)\n",
    "#print(df['bimestre'].unique()) ##muestra los valores únicos del campo bimestre"
   ],
   "outputs": [
    {
     "output_type": "execute_result",
     "data": {
      "text/html": [
       "<div>\n",
       "<style scoped>\n",
       "    .dataframe tbody tr th:only-of-type {\n",
       "        vertical-align: middle;\n",
       "    }\n",
       "\n",
       "    .dataframe tbody tr th {\n",
       "        vertical-align: top;\n",
       "    }\n",
       "\n",
       "    .dataframe thead th {\n",
       "        text-align: right;\n",
       "    }\n",
       "</style>\n",
       "<table border=\"1\" class=\"dataframe\">\n",
       "  <thead>\n",
       "    <tr style=\"text-align: right;\">\n",
       "      <th></th>\n",
       "      <th>alcaldia</th>\n",
       "      <th>colonia</th>\n",
       "      <th>consumo_total_dom</th>\n",
       "      <th>indice_des</th>\n",
       "      <th>geo_point_2d</th>\n",
       "      <th>bimestre</th>\n",
       "      <th>gid</th>\n",
       "    </tr>\n",
       "  </thead>\n",
       "  <tbody>\n",
       "    <tr>\n",
       "      <th>0</th>\n",
       "      <td>GUSTAVO A. MADERO</td>\n",
       "      <td>7 DE NOVIEMBRE</td>\n",
       "      <td>468.23</td>\n",
       "      <td>ALTO</td>\n",
       "      <td>19.4552601937,-99.1126617526</td>\n",
       "      <td>3</td>\n",
       "      <td>57250</td>\n",
       "    </tr>\n",
       "  </tbody>\n",
       "</table>\n",
       "</div>"
      ],
      "text/plain": [
       "            alcaldia         colonia  consumo_total_dom indice_des  \\\n",
       "0  GUSTAVO A. MADERO  7 DE NOVIEMBRE             468.23       ALTO   \n",
       "\n",
       "                   geo_point_2d  bimestre    gid  \n",
       "0  19.4552601937,-99.1126617526         3  57250  "
      ]
     },
     "metadata": {},
     "execution_count": 5
    }
=======
   "execution_count": 4,
   "source": [
    "df2 = df.iloc[:, [8,9,7,17,1]]\r\n",
    "#df2.head(10)"
>>>>>>> cd8a590014ce7580fafcc4e5a2365b0651869413
   ],
   "metadata": {}
  },
  {
   "cell_type": "code",
   "execution_count": 5,
   "source": [
<<<<<<< HEAD
    "df2['lat'], df2['lon'] = df2['geo_point_2d'].str.split(',', 1).str ## Separamos el campo geo_point_2d en dos nuevas columnas\n",
    "df2.head(20)"
=======
    "df2['lat'], df2['lon'] = df2['geo_point_2d'].str.split(',', 1).str ## Separamos el campo geo_point_2d en dos nuevas columnas\r\n",
    "#df2.head()"
>>>>>>> cd8a590014ce7580fafcc4e5a2365b0651869413
   ],
   "outputs": [
    {
     "output_type": "stream",
     "name": "stderr",
     "text": [
      "C:\\Users\\TLACAE~1\\AppData\\Local\\Temp/ipykernel_35508/1586901171.py:1: FutureWarning:\n",
      "\n",
      "Columnar iteration over characters will be deprecated in future releases.\n",
      "\n",
      "C:\\Users\\TLACAE~1\\AppData\\Local\\Temp/ipykernel_35508/1586901171.py:1: SettingWithCopyWarning:\n",
      "\n",
      "\n",
      "A value is trying to be set on a copy of a slice from a DataFrame.\n",
      "Try using .loc[row_indexer,col_indexer] = value instead\n",
      "\n",
      "See the caveats in the documentation: https://pandas.pydata.org/pandas-docs/stable/user_guide/indexing.html#returning-a-view-versus-a-copy\n",
      "\n"
     ]
    }
   ],
   "metadata": {}
  },
  {
   "cell_type": "markdown",
   "source": [
    "## Consumo total domiciliario por alcaldía"
   ],
   "metadata": {}
  },
  {
   "cell_type": "code",
<<<<<<< HEAD
   "execution_count": null,
=======
   "execution_count": 6,
>>>>>>> cd8a590014ce7580fafcc4e5a2365b0651869413
   "source": [
    "consumoAguaAlcaldia = pd.DataFrame(df2.groupby([\"alcaldia\"]).consumo_total_dom.sum())##Agrupamos por alcaldía y calculamos su total de consumo\r\n",
    "\r\n",
    "consumoAguaAlcaldia = consumoAguaAlcaldia.rename_axis('alcaldia').reset_index()\r\n",
    "print(consumoAguaAlcaldia)\r\n"
   ],
   "outputs": [],
   "metadata": {}
  },
  {
   "cell_type": "markdown",
   "source": [
    "## Consumo total por colonia "
   ],
   "metadata": {}
  },
  {
   "cell_type": "code",
   "execution_count": 18,
   "source": [
    "consumoAguaColonia = pd.DataFrame(df2.groupby([\"colonia\"]).consumo_total_dom.sum())##Agrupamos por colonia y calculamos su consumo Total de agua\n",
    "consumoAguaColonia = consumoAguaColonia.rename_axis('colonia').reset_index()\n",
    "print(consumoAguaColonia)\n"
   ],
   "outputs": [
    {
     "output_type": "stream",
     "name": "stdout",
     "text": [
      "                   colonia  consumo_total_dom\n",
      "0              10 DE ABRIL            3518.36\n",
      "1               10 DE MAYO           39893.07\n",
      "2          12 DE DICIEMBRE           14665.91\n",
      "3             15 DE AGOSTO           22758.02\n",
      "4         16 DE SEPTIEMBRE           26090.27\n",
      "...                    ...                ...\n",
      "1335         ZENON DELGADO            4709.78\n",
      "1336            ZENTLAPATL              12.20\n",
      "1337           ZONA CENTRO          258997.92\n",
      "1338          ZONA ESCOLAR           78071.28\n",
      "1339  ZONA ESCOLAR ORIENTE          162172.81\n",
      "\n",
      "[1340 rows x 2 columns]\n"
     ]
    }
   ],
   "metadata": {}
  },
  {
   "cell_type": "code",
<<<<<<< HEAD
   "execution_count": 19,
   "source": [
    "coordenasGeoColonia = df2.iloc[:,[1,4]]\n",
    "consumoAguaColonia = consumoAguaColonia.merge(coordenasGeoColonia, left_on='colonia', right_on='colonia')\n"
=======
   "execution_count": 7,
   "source": [
    "consumoAguaColonia = pd.DataFrame(df2.groupby([\"colonia\"]).consumo_total_dom.sum())##Agrupamos por colonia y calculamos su consumo Total de agua\r\n",
    "print(consumoAguaColonia)\r\n"
   ],
   "outputs": [
    {
     "output_type": "stream",
     "name": "stdout",
     "text": [
      "                      consumo_total_dom\n",
      "colonia                                \n",
      "10 DE ABRIL                     3518.36\n",
      "10 DE MAYO                     39893.07\n",
      "12 DE DICIEMBRE                14665.91\n",
      "15 DE AGOSTO                   22758.02\n",
      "16 DE SEPTIEMBRE               26090.27\n",
      "...                                 ...\n",
      "ZENON DELGADO                   4709.78\n",
      "ZENTLAPATL                        12.20\n",
      "ZONA CENTRO                   258997.92\n",
      "ZONA ESCOLAR                   78071.28\n",
      "ZONA ESCOLAR ORIENTE          162172.81\n",
      "\n",
      "[1340 rows x 1 columns]\n"
     ]
    }
>>>>>>> cd8a590014ce7580fafcc4e5a2365b0651869413
   ],
   "metadata": {}
  },
  {
   "cell_type": "code",
<<<<<<< HEAD
   "execution_count": 20,
   "source": [
    "consumoAguaColonia2 = consumoAguaColonia.iloc[:,[0,1,2]]\n",
    "consumoAguaColonia2 = consumoAguaColonia2.drop_duplicates(subset=['colonia'])\n",
    "consumoAguaColonia2['lat'], consumoAguaColonia2['lon'] = consumoAguaColonia2['geo_point_2d'].str.split(',', 1).str\n",
    "consumoAguaColonia2[['lat', 'lon']] = consumoAguaColonia2[['lat', 'lon']].astype(float)"
   ],
   "outputs": [
    {
     "output_type": "stream",
     "name": "stderr",
     "text": [
      "/usr/lib/python3/dist-packages/ipykernel_launcher.py:3: FutureWarning:\n",
      "\n",
      "Columnar iteration over characters will be deprecated in future releases.\n",
      "\n"
     ]
    }
   ],
   "metadata": {}
  },
  {
   "cell_type": "code",
   "execution_count": null,
=======
   "execution_count": 8,
>>>>>>> cd8a590014ce7580fafcc4e5a2365b0651869413
   "source": [
    "consumoAguaIndiceDes = pd.DataFrame( ((df2.groupby(['indice_des']).consumo_total_dom.sum() )))##Agrupamos por índice de desarrollo y calculamos su consumo total de agua\r\n",
    "consumoAguaIndiceDes.head()"
   ],
   "outputs": [
    {
     "output_type": "execute_result",
     "data": {
      "text/html": [
       "<div>\n",
       "<style scoped>\n",
       "    .dataframe tbody tr th:only-of-type {\n",
       "        vertical-align: middle;\n",
       "    }\n",
       "\n",
       "    .dataframe tbody tr th {\n",
       "        vertical-align: top;\n",
       "    }\n",
       "\n",
       "    .dataframe thead th {\n",
       "        text-align: right;\n",
       "    }\n",
       "</style>\n",
       "<table border=\"1\" class=\"dataframe\">\n",
       "  <thead>\n",
       "    <tr style=\"text-align: right;\">\n",
       "      <th></th>\n",
       "      <th>consumo_total_dom</th>\n",
       "    </tr>\n",
       "    <tr>\n",
       "      <th>indice_des</th>\n",
       "      <th></th>\n",
       "    </tr>\n",
       "  </thead>\n",
       "  <tbody>\n",
       "    <tr>\n",
       "      <th>ALTO</th>\n",
       "      <td>2.009006e+07</td>\n",
       "    </tr>\n",
       "    <tr>\n",
       "      <th>BAJO</th>\n",
       "      <td>3.267609e+07</td>\n",
       "    </tr>\n",
       "    <tr>\n",
       "      <th>MEDIO</th>\n",
       "      <td>8.508594e+06</td>\n",
       "    </tr>\n",
       "    <tr>\n",
       "      <th>POPULAR</th>\n",
       "      <td>1.735319e+07</td>\n",
       "    </tr>\n",
       "  </tbody>\n",
       "</table>\n",
       "</div>"
      ],
      "text/plain": [
       "            consumo_total_dom\n",
       "indice_des                   \n",
       "ALTO             2.009006e+07\n",
       "BAJO             3.267609e+07\n",
       "MEDIO            8.508594e+06\n",
       "POPULAR          1.735319e+07"
      ]
     },
     "metadata": {},
     "execution_count": 8
    }
   ],
   "metadata": {}
  },
  {
   "cell_type": "code",
   "execution_count": 9,
   "source": [
    "coloniasIndiceDes = pd.DataFrame(df2.indice_des.value_counts() )### Calculamos una tabla de frecuencias de colonias con su indice de desarrollo\r\n",
    "print(coloniasIndiceDes)"
   ],
   "outputs": [
    {
     "output_type": "stream",
     "name": "stdout",
     "text": [
      "         indice_des\n",
      "BAJO          29248\n",
      "POPULAR       16539\n",
      "ALTO          15516\n",
      "MEDIO          9799\n"
     ]
    }
   ],
   "metadata": {}
  },
  {
   "cell_type": "markdown",
   "source": [
    "# Datos de Población CDMX 2020"
   ],
   "metadata": {}
  },
  {
   "cell_type": "code",
   "execution_count": 15,
   "source": [
<<<<<<< HEAD
    "pob = pd.read_csv(\"/home/jfractal/Documentos/dataton_2021/dataton_AGUA_2021/ITER2020_09CDMX.csv\")\n",
    "pob.columns"
=======
    "#pob = pd.read_csv(\"/home/jfractal/Documentos/dataton_2021/dataton_AGUA_2021/ITER2020_09CDMX.csv\")\r\n",
    "pob = pd.read_excel(\"ITER2020 - 09 Ciudad de México.xlsx\")\r\n",
    "\r\n",
    "pob.head(10)"
   ],
   "outputs": [
    {
     "output_type": "execute_result",
     "data": {
      "text/html": [
       "<div>\n",
       "<style scoped>\n",
       "    .dataframe tbody tr th:only-of-type {\n",
       "        vertical-align: middle;\n",
       "    }\n",
       "\n",
       "    .dataframe tbody tr th {\n",
       "        vertical-align: top;\n",
       "    }\n",
       "\n",
       "    .dataframe thead th {\n",
       "        text-align: right;\n",
       "    }\n",
       "</style>\n",
       "<table border=\"1\" class=\"dataframe\">\n",
       "  <thead>\n",
       "    <tr style=\"text-align: right;\">\n",
       "      <th></th>\n",
       "      <th>Instituto Nacional de Estadística y Geografía (INEGI)</th>\n",
       "      <th>Unnamed: 1</th>\n",
       "      <th>Unnamed: 2</th>\n",
       "      <th>Unnamed: 3</th>\n",
       "      <th>Unnamed: 4</th>\n",
       "      <th>Unnamed: 5</th>\n",
       "      <th>Unnamed: 6</th>\n",
       "      <th>Unnamed: 7</th>\n",
       "      <th>Unnamed: 8</th>\n",
       "      <th>Unnamed: 9</th>\n",
       "      <th>...</th>\n",
       "      <th>Unnamed: 45</th>\n",
       "      <th>Unnamed: 46</th>\n",
       "      <th>Unnamed: 47</th>\n",
       "      <th>Unnamed: 48</th>\n",
       "      <th>Unnamed: 49</th>\n",
       "      <th>Unnamed: 50</th>\n",
       "      <th>Unnamed: 51</th>\n",
       "      <th>Unnamed: 52</th>\n",
       "      <th>Unnamed: 53</th>\n",
       "      <th>Unnamed: 54</th>\n",
       "    </tr>\n",
       "  </thead>\n",
       "  <tbody>\n",
       "    <tr>\n",
       "      <th>0</th>\n",
       "      <td>Principales resultados por localidad (ITER) 2020</td>\n",
       "      <td>NaN</td>\n",
       "      <td>NaN</td>\n",
       "      <td>NaN</td>\n",
       "      <td>NaN</td>\n",
       "      <td>NaN</td>\n",
       "      <td>NaN</td>\n",
       "      <td>NaN</td>\n",
       "      <td>NaN</td>\n",
       "      <td>NaN</td>\n",
       "      <td>...</td>\n",
       "      <td>NaN</td>\n",
       "      <td>NaN</td>\n",
       "      <td>NaN</td>\n",
       "      <td>NaN</td>\n",
       "      <td>NaN</td>\n",
       "      <td>NaN</td>\n",
       "      <td>NaN</td>\n",
       "      <td>NaN</td>\n",
       "      <td>NaN</td>\n",
       "      <td>NaN</td>\n",
       "    </tr>\n",
       "    <tr>\n",
       "      <th>1</th>\n",
       "      <td>Reporte de consulta</td>\n",
       "      <td>NaN</td>\n",
       "      <td>NaN</td>\n",
       "      <td>NaN</td>\n",
       "      <td>NaN</td>\n",
       "      <td>NaN</td>\n",
       "      <td>NaN</td>\n",
       "      <td>NaN</td>\n",
       "      <td>NaN</td>\n",
       "      <td>NaN</td>\n",
       "      <td>...</td>\n",
       "      <td>NaN</td>\n",
       "      <td>NaN</td>\n",
       "      <td>NaN</td>\n",
       "      <td>NaN</td>\n",
       "      <td>NaN</td>\n",
       "      <td>NaN</td>\n",
       "      <td>NaN</td>\n",
       "      <td>NaN</td>\n",
       "      <td>NaN</td>\n",
       "      <td>NaN</td>\n",
       "    </tr>\n",
       "    <tr>\n",
       "      <th>2</th>\n",
       "      <td>NaN</td>\n",
       "      <td>NaN</td>\n",
       "      <td>NaN</td>\n",
       "      <td>NaN</td>\n",
       "      <td>NaN</td>\n",
       "      <td>NaN</td>\n",
       "      <td>NaN</td>\n",
       "      <td>NaN</td>\n",
       "      <td>NaN</td>\n",
       "      <td>NaN</td>\n",
       "      <td>...</td>\n",
       "      <td>NaN</td>\n",
       "      <td>NaN</td>\n",
       "      <td>NaN</td>\n",
       "      <td>NaN</td>\n",
       "      <td>NaN</td>\n",
       "      <td>NaN</td>\n",
       "      <td>NaN</td>\n",
       "      <td>NaN</td>\n",
       "      <td>NaN</td>\n",
       "      <td>NaN</td>\n",
       "    </tr>\n",
       "    <tr>\n",
       "      <th>3</th>\n",
       "      <td>Clave de entidad federativa</td>\n",
       "      <td>Nombre de la entidad</td>\n",
       "      <td>Clave de municipio o demarcación territorial</td>\n",
       "      <td>Nombre del municipio o demarcación territorial</td>\n",
       "      <td>Clave de localidad</td>\n",
       "      <td>Nombre de la localidad</td>\n",
       "      <td>Población total</td>\n",
       "      <td>Población femenina</td>\n",
       "      <td>Población masculina</td>\n",
       "      <td>Población de 0 a 2 años</td>\n",
       "      <td>...</td>\n",
       "      <td>Población femenina de 15 a 49 años</td>\n",
       "      <td>Población de 60 años y más</td>\n",
       "      <td>Población femenina de 60 años y más</td>\n",
       "      <td>Población masculina de 60 años y más</td>\n",
       "      <td>Relación hombres-mujeres</td>\n",
       "      <td>Población de 0 a 14 años</td>\n",
       "      <td>Población de 15 a 64 años</td>\n",
       "      <td>Población de 65 años y más</td>\n",
       "      <td>Longitud</td>\n",
       "      <td>Latitud</td>\n",
       "    </tr>\n",
       "    <tr>\n",
       "      <th>4</th>\n",
       "      <td>09</td>\n",
       "      <td>Ciudad de México</td>\n",
       "      <td>000</td>\n",
       "      <td>Total de la entidad Ciudad de México</td>\n",
       "      <td>0000</td>\n",
       "      <td>Total de la Entidad</td>\n",
       "      <td>9209944</td>\n",
       "      <td>4805017</td>\n",
       "      <td>4404927</td>\n",
       "      <td>267151</td>\n",
       "      <td>...</td>\n",
       "      <td>2508606</td>\n",
       "      <td>1491619</td>\n",
       "      <td>853207</td>\n",
       "      <td>638412</td>\n",
       "      <td>91.67</td>\n",
       "      <td>1652773</td>\n",
       "      <td>6525440</td>\n",
       "      <td>1022105</td>\n",
       "      <td>NaN</td>\n",
       "      <td>NaN</td>\n",
       "    </tr>\n",
       "    <tr>\n",
       "      <th>5</th>\n",
       "      <td>09</td>\n",
       "      <td>Ciudad de México</td>\n",
       "      <td>000</td>\n",
       "      <td>Total de la entidad Ciudad de México</td>\n",
       "      <td>9998</td>\n",
       "      <td>Localidades de una vivienda</td>\n",
       "      <td>320</td>\n",
       "      <td>128</td>\n",
       "      <td>192</td>\n",
       "      <td>16</td>\n",
       "      <td>...</td>\n",
       "      <td>69</td>\n",
       "      <td>37</td>\n",
       "      <td>11</td>\n",
       "      <td>26</td>\n",
       "      <td>150</td>\n",
       "      <td>72</td>\n",
       "      <td>223</td>\n",
       "      <td>25</td>\n",
       "      <td>NaN</td>\n",
       "      <td>NaN</td>\n",
       "    </tr>\n",
       "    <tr>\n",
       "      <th>6</th>\n",
       "      <td>09</td>\n",
       "      <td>Ciudad de México</td>\n",
       "      <td>000</td>\n",
       "      <td>Total de la entidad Ciudad de México</td>\n",
       "      <td>9999</td>\n",
       "      <td>Localidades de dos viviendas</td>\n",
       "      <td>364</td>\n",
       "      <td>178</td>\n",
       "      <td>186</td>\n",
       "      <td>9</td>\n",
       "      <td>...</td>\n",
       "      <td>95</td>\n",
       "      <td>48</td>\n",
       "      <td>20</td>\n",
       "      <td>28</td>\n",
       "      <td>104.49</td>\n",
       "      <td>96</td>\n",
       "      <td>240</td>\n",
       "      <td>28</td>\n",
       "      <td>NaN</td>\n",
       "      <td>NaN</td>\n",
       "    </tr>\n",
       "    <tr>\n",
       "      <th>7</th>\n",
       "      <td>09</td>\n",
       "      <td>Ciudad de México</td>\n",
       "      <td>002</td>\n",
       "      <td>Azcapotzalco</td>\n",
       "      <td>0000</td>\n",
       "      <td>Total del Municipio</td>\n",
       "      <td>432205</td>\n",
       "      <td>227255</td>\n",
       "      <td>204950</td>\n",
       "      <td>11784</td>\n",
       "      <td>...</td>\n",
       "      <td>115600</td>\n",
       "      <td>78650</td>\n",
       "      <td>45565</td>\n",
       "      <td>33085</td>\n",
       "      <td>90.19</td>\n",
       "      <td>70366</td>\n",
       "      <td>306611</td>\n",
       "      <td>54863</td>\n",
       "      <td>NaN</td>\n",
       "      <td>NaN</td>\n",
       "    </tr>\n",
       "    <tr>\n",
       "      <th>8</th>\n",
       "      <td>09</td>\n",
       "      <td>Ciudad de México</td>\n",
       "      <td>002</td>\n",
       "      <td>Azcapotzalco</td>\n",
       "      <td>0001</td>\n",
       "      <td>Azcapotzalco</td>\n",
       "      <td>432205</td>\n",
       "      <td>227255</td>\n",
       "      <td>204950</td>\n",
       "      <td>11784</td>\n",
       "      <td>...</td>\n",
       "      <td>115600</td>\n",
       "      <td>78650</td>\n",
       "      <td>45565</td>\n",
       "      <td>33085</td>\n",
       "      <td>90.19</td>\n",
       "      <td>70366</td>\n",
       "      <td>306611</td>\n",
       "      <td>54863</td>\n",
       "      <td>99°11'03.698\" W</td>\n",
       "      <td>19°29'02.770\" N</td>\n",
       "    </tr>\n",
       "    <tr>\n",
       "      <th>9</th>\n",
       "      <td>09</td>\n",
       "      <td>Ciudad de México</td>\n",
       "      <td>003</td>\n",
       "      <td>Coyoacán</td>\n",
       "      <td>0000</td>\n",
       "      <td>Total del Municipio</td>\n",
       "      <td>614447</td>\n",
       "      <td>325337</td>\n",
       "      <td>289110</td>\n",
       "      <td>14791</td>\n",
       "      <td>...</td>\n",
       "      <td>162387</td>\n",
       "      <td>126592</td>\n",
       "      <td>73584</td>\n",
       "      <td>53008</td>\n",
       "      <td>88.86</td>\n",
       "      <td>91327</td>\n",
       "      <td>432544</td>\n",
       "      <td>90448</td>\n",
       "      <td>NaN</td>\n",
       "      <td>NaN</td>\n",
       "    </tr>\n",
       "  </tbody>\n",
       "</table>\n",
       "<p>10 rows × 55 columns</p>\n",
       "</div>"
      ],
      "text/plain": [
       "  Instituto Nacional de Estadística y Geografía (INEGI)            Unnamed: 1  \\\n",
       "0   Principales resultados por localidad (ITER) 2020                      NaN   \n",
       "1                                Reporte de consulta                      NaN   \n",
       "2                                                NaN                      NaN   \n",
       "3                        Clave de entidad federativa     Nombre de la entidad   \n",
       "4                                                 09         Ciudad de México   \n",
       "5                                                 09         Ciudad de México   \n",
       "6                                                 09         Ciudad de México   \n",
       "7                                                 09         Ciudad de México   \n",
       "8                                                 09         Ciudad de México   \n",
       "9                                                 09         Ciudad de México   \n",
       "\n",
       "                                     Unnamed: 2  \\\n",
       "0                                           NaN   \n",
       "1                                           NaN   \n",
       "2                                           NaN   \n",
       "3  Clave de municipio o demarcación territorial   \n",
       "4                                           000   \n",
       "5                                           000   \n",
       "6                                           000   \n",
       "7                                           002   \n",
       "8                                           002   \n",
       "9                                           003   \n",
       "\n",
       "                                       Unnamed: 3          Unnamed: 4  \\\n",
       "0                                             NaN                 NaN   \n",
       "1                                             NaN                 NaN   \n",
       "2                                             NaN                 NaN   \n",
       "3  Nombre del municipio o demarcación territorial  Clave de localidad   \n",
       "4            Total de la entidad Ciudad de México                0000   \n",
       "5            Total de la entidad Ciudad de México                9998   \n",
       "6            Total de la entidad Ciudad de México                9999   \n",
       "7                                    Azcapotzalco                0000   \n",
       "8                                    Azcapotzalco                0001   \n",
       "9                                        Coyoacán                0000   \n",
       "\n",
       "                     Unnamed: 5       Unnamed: 6          Unnamed: 7  \\\n",
       "0                           NaN              NaN                 NaN   \n",
       "1                           NaN              NaN                 NaN   \n",
       "2                           NaN              NaN                 NaN   \n",
       "3        Nombre de la localidad  Población total  Población femenina   \n",
       "4           Total de la Entidad          9209944             4805017   \n",
       "5   Localidades de una vivienda              320                 128   \n",
       "6  Localidades de dos viviendas              364                 178   \n",
       "7           Total del Municipio           432205              227255   \n",
       "8                  Azcapotzalco           432205              227255   \n",
       "9           Total del Municipio           614447              325337   \n",
       "\n",
       "            Unnamed: 8               Unnamed: 9  ...  \\\n",
       "0                  NaN                      NaN  ...   \n",
       "1                  NaN                      NaN  ...   \n",
       "2                  NaN                      NaN  ...   \n",
       "3  Población masculina  Población de 0 a 2 años  ...   \n",
       "4              4404927                   267151  ...   \n",
       "5                  192                       16  ...   \n",
       "6                  186                        9  ...   \n",
       "7               204950                    11784  ...   \n",
       "8               204950                    11784  ...   \n",
       "9               289110                    14791  ...   \n",
       "\n",
       "                           Unnamed: 45                 Unnamed: 46  \\\n",
       "0                                  NaN                         NaN   \n",
       "1                                  NaN                         NaN   \n",
       "2                                  NaN                         NaN   \n",
       "3  Población femenina de 15 a 49 años   Población de 60 años y más   \n",
       "4                              2508606                     1491619   \n",
       "5                                   69                          37   \n",
       "6                                   95                          48   \n",
       "7                               115600                       78650   \n",
       "8                               115600                       78650   \n",
       "9                               162387                      126592   \n",
       "\n",
       "                           Unnamed: 47                           Unnamed: 48  \\\n",
       "0                                  NaN                                   NaN   \n",
       "1                                  NaN                                   NaN   \n",
       "2                                  NaN                                   NaN   \n",
       "3  Población femenina de 60 años y más  Población masculina de 60 años y más   \n",
       "4                               853207                                638412   \n",
       "5                                   11                                    26   \n",
       "6                                   20                                    28   \n",
       "7                                45565                                 33085   \n",
       "8                                45565                                 33085   \n",
       "9                                73584                                 53008   \n",
       "\n",
       "                Unnamed: 49               Unnamed: 50  \\\n",
       "0                       NaN                       NaN   \n",
       "1                       NaN                       NaN   \n",
       "2                       NaN                       NaN   \n",
       "3  Relación hombres-mujeres  Población de 0 a 14 años   \n",
       "4                     91.67                   1652773   \n",
       "5                       150                        72   \n",
       "6                    104.49                        96   \n",
       "7                     90.19                     70366   \n",
       "8                     90.19                     70366   \n",
       "9                     88.86                     91327   \n",
       "\n",
       "                 Unnamed: 51                 Unnamed: 52       Unnamed: 53  \\\n",
       "0                        NaN                         NaN               NaN   \n",
       "1                        NaN                         NaN               NaN   \n",
       "2                        NaN                         NaN               NaN   \n",
       "3  Población de 15 a 64 años  Población de 65 años y más          Longitud   \n",
       "4                    6525440                     1022105               NaN   \n",
       "5                        223                          25               NaN   \n",
       "6                        240                          28               NaN   \n",
       "7                     306611                       54863               NaN   \n",
       "8                     306611                       54863   99°11'03.698\" W   \n",
       "9                     432544                       90448               NaN   \n",
       "\n",
       "       Unnamed: 54  \n",
       "0              NaN  \n",
       "1              NaN  \n",
       "2              NaN  \n",
       "3          Latitud  \n",
       "4              NaN  \n",
       "5              NaN  \n",
       "6              NaN  \n",
       "7              NaN  \n",
       "8  19°29'02.770\" N  \n",
       "9              NaN  \n",
       "\n",
       "[10 rows x 55 columns]"
      ]
     },
     "metadata": {},
     "execution_count": 15
    }
>>>>>>> cd8a590014ce7580fafcc4e5a2365b0651869413
   ],
   "metadata": {}
  },
  {
   "cell_type": "code",
<<<<<<< HEAD
   "execution_count": 12,
=======
   "execution_count": 16,
>>>>>>> cd8a590014ce7580fafcc4e5a2365b0651869413
   "source": [
    "pob.columns\r\n",
    "pobT = pob.iloc[:,[3,5,6]]\r\n",
    "pobT = pobT.rename(columns={\"Nombre del municipio o demarcación territorial\": \"NomMun\", \"Nombre de la localidad\":\"NomLoc\", \"Población total\":\"PT\"  } )\r\n",
    "pobT = pobT[ (pobT['NomLoc'] == \"Total del Municipio\") ]\r\n",
    "pobT = pobT.iloc[:,[0,2]]\r\n",
    "print(pobT)"
   ],
   "outputs": [
    {
     "output_type": "error",
     "ename": "KeyError",
     "evalue": "'NomLoc'",
     "traceback": [
      "\u001b[1;31m---------------------------------------------------------------------------\u001b[0m",
      "\u001b[1;31mKeyError\u001b[0m                                  Traceback (most recent call last)",
      "\u001b[1;32md:\\iCPAC\\Tlacuepalli\\.venv\\lib\\site-packages\\pandas\\core\\indexes\\base.py\u001b[0m in \u001b[0;36mget_loc\u001b[1;34m(self, key, method, tolerance)\u001b[0m\n\u001b[0;32m   3360\u001b[0m             \u001b[1;32mtry\u001b[0m\u001b[1;33m:\u001b[0m\u001b[1;33m\u001b[0m\u001b[1;33m\u001b[0m\u001b[0m\n\u001b[1;32m-> 3361\u001b[1;33m                 \u001b[1;32mreturn\u001b[0m \u001b[0mself\u001b[0m\u001b[1;33m.\u001b[0m\u001b[0m_engine\u001b[0m\u001b[1;33m.\u001b[0m\u001b[0mget_loc\u001b[0m\u001b[1;33m(\u001b[0m\u001b[0mcasted_key\u001b[0m\u001b[1;33m)\u001b[0m\u001b[1;33m\u001b[0m\u001b[1;33m\u001b[0m\u001b[0m\n\u001b[0m\u001b[0;32m   3362\u001b[0m             \u001b[1;32mexcept\u001b[0m \u001b[0mKeyError\u001b[0m \u001b[1;32mas\u001b[0m \u001b[0merr\u001b[0m\u001b[1;33m:\u001b[0m\u001b[1;33m\u001b[0m\u001b[1;33m\u001b[0m\u001b[0m\n",
      "\u001b[1;32md:\\iCPAC\\Tlacuepalli\\.venv\\lib\\site-packages\\pandas\\_libs\\index.pyx\u001b[0m in \u001b[0;36mpandas._libs.index.IndexEngine.get_loc\u001b[1;34m()\u001b[0m\n",
      "\u001b[1;32md:\\iCPAC\\Tlacuepalli\\.venv\\lib\\site-packages\\pandas\\_libs\\index.pyx\u001b[0m in \u001b[0;36mpandas._libs.index.IndexEngine.get_loc\u001b[1;34m()\u001b[0m\n",
      "\u001b[1;32mpandas\\_libs\\hashtable_class_helper.pxi\u001b[0m in \u001b[0;36mpandas._libs.hashtable.PyObjectHashTable.get_item\u001b[1;34m()\u001b[0m\n",
      "\u001b[1;32mpandas\\_libs\\hashtable_class_helper.pxi\u001b[0m in \u001b[0;36mpandas._libs.hashtable.PyObjectHashTable.get_item\u001b[1;34m()\u001b[0m\n",
      "\u001b[1;31mKeyError\u001b[0m: 'NomLoc'",
      "\nThe above exception was the direct cause of the following exception:\n",
      "\u001b[1;31mKeyError\u001b[0m                                  Traceback (most recent call last)",
      "\u001b[1;32mC:\\Users\\TLACAE~1\\AppData\\Local\\Temp/ipykernel_35508/4266911937.py\u001b[0m in \u001b[0;36m<module>\u001b[1;34m\u001b[0m\n\u001b[0;32m      2\u001b[0m \u001b[0mpobT\u001b[0m \u001b[1;33m=\u001b[0m \u001b[0mpob\u001b[0m\u001b[1;33m.\u001b[0m\u001b[0miloc\u001b[0m\u001b[1;33m[\u001b[0m\u001b[1;33m:\u001b[0m\u001b[1;33m,\u001b[0m\u001b[1;33m[\u001b[0m\u001b[1;36m3\u001b[0m\u001b[1;33m,\u001b[0m\u001b[1;36m5\u001b[0m\u001b[1;33m,\u001b[0m\u001b[1;36m6\u001b[0m\u001b[1;33m]\u001b[0m\u001b[1;33m]\u001b[0m\u001b[1;33m\u001b[0m\u001b[1;33m\u001b[0m\u001b[0m\n\u001b[0;32m      3\u001b[0m \u001b[0mpobT\u001b[0m \u001b[1;33m=\u001b[0m \u001b[0mpobT\u001b[0m\u001b[1;33m.\u001b[0m\u001b[0mrename\u001b[0m\u001b[1;33m(\u001b[0m\u001b[0mcolumns\u001b[0m\u001b[1;33m=\u001b[0m\u001b[1;33m{\u001b[0m\u001b[1;34m\"Nombre del municipio o demarcación territorial\"\u001b[0m\u001b[1;33m:\u001b[0m \u001b[1;34m\"NomMun\"\u001b[0m\u001b[1;33m,\u001b[0m \u001b[1;34m\"Nombre de la localidad\"\u001b[0m\u001b[1;33m:\u001b[0m\u001b[1;34m\"NomLoc\"\u001b[0m\u001b[1;33m,\u001b[0m \u001b[1;34m\"Población total\"\u001b[0m\u001b[1;33m:\u001b[0m\u001b[1;34m\"PT\"\u001b[0m  \u001b[1;33m}\u001b[0m \u001b[1;33m)\u001b[0m\u001b[1;33m\u001b[0m\u001b[1;33m\u001b[0m\u001b[0m\n\u001b[1;32m----> 4\u001b[1;33m \u001b[0mpobT\u001b[0m \u001b[1;33m=\u001b[0m \u001b[0mpobT\u001b[0m\u001b[1;33m[\u001b[0m \u001b[1;33m(\u001b[0m\u001b[0mpobT\u001b[0m\u001b[1;33m[\u001b[0m\u001b[1;34m'NomLoc'\u001b[0m\u001b[1;33m]\u001b[0m \u001b[1;33m==\u001b[0m \u001b[1;34m\"Total del Municipio\"\u001b[0m\u001b[1;33m)\u001b[0m \u001b[1;33m]\u001b[0m\u001b[1;33m\u001b[0m\u001b[1;33m\u001b[0m\u001b[0m\n\u001b[0m\u001b[0;32m      5\u001b[0m \u001b[0mpobT\u001b[0m \u001b[1;33m=\u001b[0m \u001b[0mpobT\u001b[0m\u001b[1;33m.\u001b[0m\u001b[0miloc\u001b[0m\u001b[1;33m[\u001b[0m\u001b[1;33m:\u001b[0m\u001b[1;33m,\u001b[0m\u001b[1;33m[\u001b[0m\u001b[1;36m0\u001b[0m\u001b[1;33m,\u001b[0m\u001b[1;36m2\u001b[0m\u001b[1;33m]\u001b[0m\u001b[1;33m]\u001b[0m\u001b[1;33m\u001b[0m\u001b[1;33m\u001b[0m\u001b[0m\n\u001b[0;32m      6\u001b[0m \u001b[0mprint\u001b[0m\u001b[1;33m(\u001b[0m\u001b[0mpobT\u001b[0m\u001b[1;33m)\u001b[0m\u001b[1;33m\u001b[0m\u001b[1;33m\u001b[0m\u001b[0m\n",
      "\u001b[1;32md:\\iCPAC\\Tlacuepalli\\.venv\\lib\\site-packages\\pandas\\core\\frame.py\u001b[0m in \u001b[0;36m__getitem__\u001b[1;34m(self, key)\u001b[0m\n\u001b[0;32m   3456\u001b[0m             \u001b[1;32mif\u001b[0m \u001b[0mself\u001b[0m\u001b[1;33m.\u001b[0m\u001b[0mcolumns\u001b[0m\u001b[1;33m.\u001b[0m\u001b[0mnlevels\u001b[0m \u001b[1;33m>\u001b[0m \u001b[1;36m1\u001b[0m\u001b[1;33m:\u001b[0m\u001b[1;33m\u001b[0m\u001b[1;33m\u001b[0m\u001b[0m\n\u001b[0;32m   3457\u001b[0m                 \u001b[1;32mreturn\u001b[0m \u001b[0mself\u001b[0m\u001b[1;33m.\u001b[0m\u001b[0m_getitem_multilevel\u001b[0m\u001b[1;33m(\u001b[0m\u001b[0mkey\u001b[0m\u001b[1;33m)\u001b[0m\u001b[1;33m\u001b[0m\u001b[1;33m\u001b[0m\u001b[0m\n\u001b[1;32m-> 3458\u001b[1;33m             \u001b[0mindexer\u001b[0m \u001b[1;33m=\u001b[0m \u001b[0mself\u001b[0m\u001b[1;33m.\u001b[0m\u001b[0mcolumns\u001b[0m\u001b[1;33m.\u001b[0m\u001b[0mget_loc\u001b[0m\u001b[1;33m(\u001b[0m\u001b[0mkey\u001b[0m\u001b[1;33m)\u001b[0m\u001b[1;33m\u001b[0m\u001b[1;33m\u001b[0m\u001b[0m\n\u001b[0m\u001b[0;32m   3459\u001b[0m             \u001b[1;32mif\u001b[0m \u001b[0mis_integer\u001b[0m\u001b[1;33m(\u001b[0m\u001b[0mindexer\u001b[0m\u001b[1;33m)\u001b[0m\u001b[1;33m:\u001b[0m\u001b[1;33m\u001b[0m\u001b[1;33m\u001b[0m\u001b[0m\n\u001b[0;32m   3460\u001b[0m                 \u001b[0mindexer\u001b[0m \u001b[1;33m=\u001b[0m \u001b[1;33m[\u001b[0m\u001b[0mindexer\u001b[0m\u001b[1;33m]\u001b[0m\u001b[1;33m\u001b[0m\u001b[1;33m\u001b[0m\u001b[0m\n",
      "\u001b[1;32md:\\iCPAC\\Tlacuepalli\\.venv\\lib\\site-packages\\pandas\\core\\indexes\\base.py\u001b[0m in \u001b[0;36mget_loc\u001b[1;34m(self, key, method, tolerance)\u001b[0m\n\u001b[0;32m   3361\u001b[0m                 \u001b[1;32mreturn\u001b[0m \u001b[0mself\u001b[0m\u001b[1;33m.\u001b[0m\u001b[0m_engine\u001b[0m\u001b[1;33m.\u001b[0m\u001b[0mget_loc\u001b[0m\u001b[1;33m(\u001b[0m\u001b[0mcasted_key\u001b[0m\u001b[1;33m)\u001b[0m\u001b[1;33m\u001b[0m\u001b[1;33m\u001b[0m\u001b[0m\n\u001b[0;32m   3362\u001b[0m             \u001b[1;32mexcept\u001b[0m \u001b[0mKeyError\u001b[0m \u001b[1;32mas\u001b[0m \u001b[0merr\u001b[0m\u001b[1;33m:\u001b[0m\u001b[1;33m\u001b[0m\u001b[1;33m\u001b[0m\u001b[0m\n\u001b[1;32m-> 3363\u001b[1;33m                 \u001b[1;32mraise\u001b[0m \u001b[0mKeyError\u001b[0m\u001b[1;33m(\u001b[0m\u001b[0mkey\u001b[0m\u001b[1;33m)\u001b[0m \u001b[1;32mfrom\u001b[0m \u001b[0merr\u001b[0m\u001b[1;33m\u001b[0m\u001b[1;33m\u001b[0m\u001b[0m\n\u001b[0m\u001b[0;32m   3364\u001b[0m \u001b[1;33m\u001b[0m\u001b[0m\n\u001b[0;32m   3365\u001b[0m         \u001b[1;32mif\u001b[0m \u001b[0mis_scalar\u001b[0m\u001b[1;33m(\u001b[0m\u001b[0mkey\u001b[0m\u001b[1;33m)\u001b[0m \u001b[1;32mand\u001b[0m \u001b[0misna\u001b[0m\u001b[1;33m(\u001b[0m\u001b[0mkey\u001b[0m\u001b[1;33m)\u001b[0m \u001b[1;32mand\u001b[0m \u001b[1;32mnot\u001b[0m \u001b[0mself\u001b[0m\u001b[1;33m.\u001b[0m\u001b[0mhasnans\u001b[0m\u001b[1;33m:\u001b[0m\u001b[1;33m\u001b[0m\u001b[1;33m\u001b[0m\u001b[0m\n",
      "\u001b[1;31mKeyError\u001b[0m: 'NomLoc'"
     ]
    }
   ],
   "metadata": {}
  },
  {
   "cell_type": "markdown",
   "source": [
    "# Creamos un dataset de la unión de datos de consumo de agua y población total de la cdmx"
   ],
   "metadata": {}
  },
  {
   "cell_type": "code",
   "execution_count": null,
   "source": [
    "#Homologamos el campo \"alcaldia\". Transformamos de minusculas a mayusculas y quitamos tíldes\r\n",
    "pobT[\"NomMun\"] = pobT[\"NomMun\"].str.upper()##Tranformar de minusculas a mayusculas\r\n",
    "pobT['NomMun']=pobT['NomMun'].str.normalize('NFKD').str.encode('ascii', errors='ignore').str.decode('utf-8')##Quita acentos\r\n",
    "pobT = pobT.replace({\"CUAJIMALPA DE MORELOS\": \"CUAJIMALPA\",\r\n",
    "               \"LA MAGDALENA CONTRERAS\": \"MAGDALENA CONTRERAS\" })##Remplazamos los registros\r\n",
    "print(pobT)"
   ],
   "outputs": [],
   "metadata": {}
  },
  {
   "cell_type": "code",
   "execution_count": null,
   "source": [
<<<<<<< HEAD
    "pobT_consAgua = pobT.merge(consumoAguaAlcaldia, left_on='NomMun', right_on='alcaldia')\n",
    "#pobT_consAgua = pobT_consAgua.iloc[:,[0,1,3]]\n",
    "#print(pobT_consAgua)\n",
    "pobT.head(5)"
=======
    "pobT_consAgua = pobT.merge(consumoAguaAlcaldia, left_on='NomMun', right_on='alcaldia')\r\n",
    "pobT_consAgua = pobT_consAgua.iloc[:,[0,1,3]]\r\n",
    "print(pobT_consAgua)"
   ],
   "outputs": [
    {
     "output_type": "stream",
     "name": "stdout",
     "text": [
      "                 NomMun         PT  consumo_total_dom\n",
      "0          AZCAPOTZALCO   432205.0       6.153755e+06\n",
      "1              COYOACAN   614447.0       5.128303e+06\n",
      "2            CUAJIMALPA   217686.0       2.064264e+06\n",
      "3     GUSTAVO A. MADERO  1173351.0       9.196449e+06\n",
      "4             IZTACALCO   404695.0       4.663498e+06\n",
      "5            IZTAPALAPA  1835486.0       5.263020e+06\n",
      "6   MAGDALENA CONTRERAS   247622.0       8.449665e+05\n",
      "7            MILPA ALTA   152685.0       7.250709e+04\n",
      "8        ALVARO OBREGON   759137.0       6.590161e+06\n",
      "9               TLAHUAC   392313.0       6.018023e+05\n",
      "10              TLALPAN   699928.0       2.877269e+06\n",
      "11           XOCHIMILCO   442178.0       1.283415e+06\n",
      "12        BENITO JUAREZ   434153.0       9.894931e+06\n",
      "13           CUAUHTEMOC   545884.0       1.034611e+07\n",
      "14       MIGUEL HIDALGO   414470.0       8.640463e+06\n",
      "15  VENUSTIANO CARRANZA   443704.0       5.007008e+06\n"
     ]
    }
>>>>>>> cd8a590014ce7580fafcc4e5a2365b0651869413
   ],
   "outputs": [],
   "metadata": {}
  },
  {
   "cell_type": "code",
   "execution_count": null,
   "source": [
    "## Creamos nuevas variables\n",
    "\n",
    "pobT_consAgua[\"ConsumoPercapita\"] = pobT_consAgua.consumo_total_dom/pobT_consAgua.PT\n",
    "pobT_consAgua.sort_values(by=['ConsumoPercapita'], inplace=True, ascending=False )\n",
    "print(pobT_consAgua)"
   ],
   "outputs": [],
   "metadata": {}
  },
  {
   "cell_type": "markdown",
   "source": [
    "# Gráficas"
   ],
   "metadata": {}
  },
  {
   "cell_type": "markdown",
   "source": [
    "## Gráfica de Consumo de agua por alcaldía"
   ],
   "metadata": {}
  },
  {
   "cell_type": "code",
   "execution_count": 16,
   "source": [
    "data = [go.Bar(x=consumoAguaAlcaldia[\"alcaldia\"] , y=consumoAguaAlcaldia[\"consumo_total_dom\"]   )]\n",
    "layout = go.Layout(title=\"Consumo de Agua Domiciliario por Alcaldía\\nCDMX 2019\",\n",
    "                    xaxis= dict(title=\"Alcaldías\"),\n",
    "                    yaxis= dict(title=\"Consumo Total de Agua\"),\n",
    "                    barmode = \"stack\" )\n",
    "fig = go.Figure(data=data, layout=layout)\n",
    "pyo.plot(fig)"
   ],
   "outputs": [
    {
     "output_type": "execute_result",
     "data": {
      "text/plain": [
       "'temp-plot.html'"
      ]
     },
     "metadata": {},
     "execution_count": 16
    }
   ],
   "metadata": {}
  },
  {
   "cell_type": "markdown",
   "source": [
    "## Gráfica de la Población total por alcaldía"
   ],
   "metadata": {}
  },
  {
   "cell_type": "code",
   "execution_count": 39,
   "source": [
    "data1 = [go.Bar(x=pobT[\"NomMun\"], y=pobT[\"PT\"] )]\n",
    "layout1 = go.Layout(title=\"Población Total de la CDMX por Alcaldía 2020\", \n",
    "                    xaxis=dict(title=\"Alcaldía\"),\n",
    "                    yaxis=dict(title=\"Población Total\"),\n",
    "                    barmode=\"stack\" )\n",
    "fig1 = go.Figure(data=data1, layout=layout1)\n",
    "pyo.plot(fig1, filename=\"poblacion_total.html\")"
   ],
   "outputs": [
    {
     "output_type": "execute_result",
     "data": {
      "text/plain": [
       "'poblacion_total.html'"
      ]
     },
     "metadata": {},
     "execution_count": 39
    }
   ],
   "metadata": {}
  },
  {
   "cell_type": "markdown",
   "source": [
    "## Gráfica de Consumo de agua percapita"
   ],
   "metadata": {}
  },
  {
   "cell_type": "code",
   "execution_count": 73,
   "source": [
    "data2 = [go.Bar(x=pobT_consAgua[\"NomMun\"], y=pobT_consAgua[\"ConsumoPercapita\"])]\n",
    "layout2 = go.Layout(title=\"Consumo per cápita de Agua en la CDMX 2019\",\n",
    "                     xaxis=dict(title=\"Alcaldía\"),\n",
    "                     yaxis=dict(title=\"Consumo de agua\"),\n",
    "                     barmode=\"stack\")\n",
    "fig2 = go.Figure(data=data2, layout=layout2)\n",
    "pyo.plot(fig2, filename=\"consumo_agua_percapita.html\")"
   ],
   "outputs": [
    {
     "output_type": "execute_result",
     "data": {
      "text/plain": [
       "'consumo_agua_percapita.html'"
      ]
     },
     "metadata": {},
     "execution_count": 73
    }
   ],
   "metadata": {}
  },
  {
   "cell_type": "markdown",
   "source": [
    "## Mapa de consumo de agua domiciliario por colonia"
   ],
   "metadata": {}
  },
  {
   "cell_type": "code",
   "execution_count": 21,
   "source": [
    "mapbox_access_token = \"pk.eyJ1IjoiaXZhbmxvc2FyIiwiYSI6ImNrZTJpdWN0NDA5cXUyem1oOGx3NGh1bGsifQ.wuhB2vmk4QGrciFWYygqaA\"\n",
    "\n",
    "fig3 = px.scatter_mapbox(consumoAguaColonia2, lat = \"lat\", lon = \"lon\", hover_name= \"colonia\", \n",
    "                        hover_data = [\"consumo_total_dom\"],\n",
    "                        color=\"consumo_total_dom\", size_max = 15, zoom = 10,\n",
    "                        size=\"consumo_total_dom\",color_continuous_scale=px.colors.cyclical.IceFire,\n",
    "                        title = \"Consumo de agua por colonia\", \n",
    "                        \n",
    "                        )\n",
    "fig3.update_layout(\n",
    "    autosize=True,\n",
    "    hovermode='closest', #muestra el dato más cercano al mover el cursor por el gráfico\n",
    "    mapbox=dict(\n",
    "        accesstoken=mapbox_access_token,\n",
    "        zoom=12 #zoom inicial del mapa\n",
    "    ),\n",
    ")\n",
    "\n",
    "\n",
    "pyo.plot(fig3, filename=\"ConsumoAguaDom.html\")\n",
    "\n"
   ],
   "outputs": [
    {
     "output_type": "execute_result",
     "data": {
      "text/plain": [
       "'ConsumoAguaDom.html'"
      ]
     },
     "metadata": {},
     "execution_count": 21
    }
   ],
   "metadata": {}
  }
 ],
 "metadata": {
  "orig_nbformat": 4,
  "language_info": {
   "name": "python",
   "version": "3.9.4",
   "mimetype": "text/x-python",
   "codemirror_mode": {
    "name": "ipython",
    "version": 3
   },
   "pygments_lexer": "ipython3",
   "nbconvert_exporter": "python",
   "file_extension": ".py"
  },
  "kernelspec": {
   "name": "python3",
   "display_name": "Python 3.9.4 64-bit ('.venv': venv)"
  },
  "interpreter": {
   "hash": "317f2e9240ed759c4d123822991c07dd9bcb01dfe92369709a063ab5f4f3265a"
  }
 },
 "nbformat": 4,
 "nbformat_minor": 2
}